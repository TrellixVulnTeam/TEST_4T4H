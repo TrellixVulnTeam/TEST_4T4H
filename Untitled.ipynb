{
 "cells": [
  {
   "cell_type": "code",
   "execution_count": 1,
   "metadata": {},
   "outputs": [],
   "source": [
    "from sklearn.feature_extraction.text import CountVectorizer\n",
    "from sklearn.metrics.pairwise import cosine_similarity\n",
    "#from collections import Count\n",
    "def get_cosine(*args):\n",
    "    vectors = [text for text in get_vectors(*args)]\n",
    "    return cosine_similarity(vectors)\n",
    "\n",
    "def get_vectors(*args):\n",
    "    text = [t for t in args]\n",
    "    vectorizer = CountVectorizer(text)\n",
    "    vectorizer.fit(text)\n",
    "    return vectorizer.transform(text).toarray()"
   ]
  },
  {
   "cell_type": "code",
   "execution_count": 5,
   "metadata": {},
   "outputs": [
    {
     "name": "stdout",
     "output_type": "stream",
     "text": [
      "[[1.         0.5        0.40824829]\n",
      " [0.5        1.         0.40824829]\n",
      " [0.40824829 0.40824829 1.        ]]\n"
     ]
    }
   ],
   "source": [
    "x = get_cosine('sad as', 'sad the','sad it hte')\n",
    "print(x)"
   ]
  }
 ],
 "metadata": {
  "kernelspec": {
   "display_name": "Python 3",
   "language": "python",
   "name": "python3"
  },
  "language_info": {
   "codemirror_mode": {
    "name": "ipython",
    "version": 3
   },
   "file_extension": ".py",
   "mimetype": "text/x-python",
   "name": "python",
   "nbconvert_exporter": "python",
   "pygments_lexer": "ipython3",
   "version": "3.7.1"
  }
 },
 "nbformat": 4,
 "nbformat_minor": 2
}
